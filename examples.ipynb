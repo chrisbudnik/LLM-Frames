{
 "cells": [
  {
   "cell_type": "code",
   "execution_count": 3,
   "metadata": {},
   "outputs": [
    {
     "name": "stdout",
     "output_type": "stream",
     "text": [
      "Before:\n",
      "             review\n",
      "0    Great product!\n",
      "1  Could be better.\n",
      "After:\n",
      "             review            review_pl\n",
      "0    Great product!     Świetny produkt!\n",
      "1  Could be better.  Mogłoby być lepiej.\n"
     ]
    }
   ],
   "source": [
    "import pandas as pd\n",
    "from openai import OpenAI\n",
    "from llm_frames import LLMFrame, SemanticOperation\n",
    "from dotenv import load_dotenv\n",
    "load_dotenv()\n",
    "\n",
    "# Create a DataFrame with example reviews\n",
    "df = pd.DataFrame({\"review\": [\"Great product!\", \"Could be better.\"]})\n",
    "print(\"Before:\", df, sep=\"\\n\")\n",
    "\n",
    "# Initialize the OpenAI client\n",
    "client = OpenAI()\n",
    "\n",
    "# Create a LLMFrame object\n",
    "llm_frame = LLMFrame(df, client)\n",
    "\n",
    "# Define a semantic operation - translation to Polish is this case\n",
    "translate_op = SemanticOperation(\n",
    "    input_column=\"review\",\n",
    "    output_column=\"review_pl\",\n",
    "    prompt_message=\"Translate the following text to Polish. Return only the translation.\",\n",
    "    model_name=\"gpt-4o-mini\"\n",
    ")\n",
    "\n",
    "llm_frame.extend([translate_op])\n",
    "print(\"After:\", llm_frame.df, sep=\"\\n\")"
   ]
  }
 ],
 "metadata": {
  "kernelspec": {
   "display_name": "base",
   "language": "python",
   "name": "python3"
  },
  "language_info": {
   "codemirror_mode": {
    "name": "ipython",
    "version": 3
   },
   "file_extension": ".py",
   "mimetype": "text/x-python",
   "name": "python",
   "nbconvert_exporter": "python",
   "pygments_lexer": "ipython3",
   "version": "3.11.4"
  }
 },
 "nbformat": 4,
 "nbformat_minor": 2
}
